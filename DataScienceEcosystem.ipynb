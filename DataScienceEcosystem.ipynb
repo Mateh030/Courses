{
 "cells": [
  {
   "cell_type": "markdown",
   "id": "77fbf6f1-f146-4a65-9a08-ad2d4c67879e",
   "metadata": {},
   "source": [
    "# Data Science Tools and Ecosystem"
   ]
  },
  {
   "cell_type": "markdown",
   "id": "b35f9aa1-6b33-407f-bc97-95fc6de544fa",
   "metadata": {},
   "source": [
    "## Author\n",
    "Mateo Hernández Meléndez"
   ]
  },
  {
   "cell_type": "markdown",
   "id": "83ed3e2b-3ad8-47d4-a1b1-87cf1b50ab5f",
   "metadata": {},
   "source": [
    "In this notebook, Data Science Tools and Ecosystem are summarized."
   ]
  },
  {
   "cell_type": "markdown",
   "id": "f648fd27-e48e-4fe1-85da-b40008b46f47",
   "metadata": {},
   "source": [
    "__Objectives:__\n",
    "- List popular languages for Data Science\n",
    "- List popular data science tools\n",
    "- cover some examples to evaluating expressions in Python"
   ]
  },
  {
   "cell_type": "markdown",
   "id": "0ab4dfa2-5b29-481c-8c51-5845f7bd0bd3",
   "metadata": {},
   "source": [
    "Some of the popular languages that Data Scientists use are:\n",
    "* python\n",
    "* R\n",
    "* SQL"
   ]
  },
  {
   "cell_type": "markdown",
   "id": "0ca7d571-c5f5-4d97-a7f2-d4bdb0c08d94",
   "metadata": {},
   "source": [
    "Some of the commonly used libraries used by Data Scientists include:\n",
    "+ Tensorflow\n",
    "+ keras\n",
    "+ seaborn"
   ]
  },
  {
   "cell_type": "markdown",
   "id": "533e943c-69f1-40eb-a4a9-6953ea48ece9",
   "metadata": {},
   "source": [
    "|Data Science Tools|\n",
    "|-----------|\n",
    "|Jupyter lab|\n",
    "|R studio|\n",
    "|Spyder|"
   ]
  },
  {
   "cell_type": "markdown",
   "id": "ec245dd4-1a5a-4ac9-ac59-bc96d96b451f",
   "metadata": {},
   "source": [
    "### Below are a few examples of evaluating arithmetic expressions in Python"
   ]
  },
  {
   "cell_type": "markdown",
   "id": "0c828542-789d-42ca-b9a9-13026a242883",
   "metadata": {},
   "source": [
    "This a simple arithmetic expression to mutiply then add integers"
   ]
  },
  {
   "cell_type": "code",
   "execution_count": 1,
   "id": "4eeb5c4e-7e1e-4676-adcc-7ff9ee40882a",
   "metadata": {},
   "outputs": [
    {
     "name": "stdout",
     "output_type": "stream",
     "text": [
      "17\n"
     ]
    }
   ],
   "source": [
    "code=(3*4)+5\n",
    "print(code)"
   ]
  },
  {
   "cell_type": "markdown",
   "id": "619db03d-9a28-42e7-b1db-bf409ead4db5",
   "metadata": {},
   "source": [
    "This will convert 200 minutes to hours by diving by 60"
   ]
  },
  {
   "cell_type": "code",
   "execution_count": 4,
   "id": "8c257a68-ed46-4d18-8775-99c9c60f717a",
   "metadata": {},
   "outputs": [
    {
     "data": {
      "text/plain": [
       "3.3333333333333335"
      ]
     },
     "execution_count": 4,
     "metadata": {},
     "output_type": "execute_result"
    }
   ],
   "source": [
    "def hours(minutes):\n",
    "    hours=minutes/60\n",
    "    return hours\n",
    "\n",
    "hours(200)"
   ]
  }
 ],
 "metadata": {
  "kernelspec": {
   "display_name": "Python 3 (ipykernel)",
   "language": "python",
   "name": "python3"
  },
  "language_info": {
   "codemirror_mode": {
    "name": "ipython",
    "version": 3
   },
   "file_extension": ".py",
   "mimetype": "text/x-python",
   "name": "python",
   "nbconvert_exporter": "python",
   "pygments_lexer": "ipython3",
   "version": "3.12.8"
  }
 },
 "nbformat": 4,
 "nbformat_minor": 5
}
